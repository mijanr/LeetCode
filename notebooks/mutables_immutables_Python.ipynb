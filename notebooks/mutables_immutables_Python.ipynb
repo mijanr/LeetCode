{
 "cells": [
  {
   "cell_type": "markdown",
   "metadata": {},
   "source": [
    "## 1. Mutable and immutable objects in Python"
   ]
  },
  {
   "cell_type": "markdown",
   "metadata": {},
   "source": [
    "#### 1.1 Immutable objects\n",
    "\n",
    "Immutable objects are those whose value cannot be changed. When we change the value of an immutable object, a new object is created. For example, integers, floats, strings, and tuples are immutable objects. \n",
    "\n",
    "Immuatble Data Types:\n",
    "```\n",
    "- Integers: int (e.g. 1, 2, 3)\n",
    "- Floats: float (e.g. 1.0, 2.0, 3.0)\n",
    "- Booleans: bool (e.g. True, False)\n",
    "- Strings: str (e.g. 'a', 'b', 'c')\n",
    "- Tuples: tuple (e.g. (1, 2, 3))\n",
    "- None (represents the absence of a value)\n",
    "```"
   ]
  },
  {
   "cell_type": "markdown",
   "metadata": {},
   "source": [
    "#### 1.2 Mutable objects\n",
    "\n",
    "Mutable objects are objects whose value can change once they are created. \n",
    "\n",
    "The following are the mutable objects in Python:\n",
    "\n",
    "```\n",
    "- Lists (e.g., [1, 2, 3], [\"a\", \"b\", \"c\"], [1.5, 2.2, 3.7])\n",
    "- Dictionaries (e.g., {\"a\": 1, \"b\": 2, \"c\": 3})\n",
    "- Sets (e.g., {1, 2, 3}, {\"a\", \"b\", \"c\"})\n",
    "```"
   ]
  },
  {
   "cell_type": "markdown",
   "metadata": {},
   "source": [
    "### 2. Examples"
   ]
  },
  {
   "cell_type": "markdown",
   "metadata": {},
   "source": [
    "#### 2.1 Immutable objects"
   ]
  },
  {
   "cell_type": "code",
   "execution_count": 5,
   "metadata": {},
   "outputs": [
    {
     "name": "stdout",
     "output_type": "stream",
     "text": [
      "Hello World\n",
      "Hello World 2\n"
     ]
    }
   ],
   "source": [
    "# strings\n",
    "string_1 = \"Hello World\"\n",
    "string_2 = string_1\n",
    "string_2 = \"Hello World 2\"\n",
    "print(string_1)\n",
    "print(string_2)"
   ]
  },
  {
   "cell_type": "markdown",
   "metadata": {},
   "source": [
    "```\n",
    "Creating a new variable with the same value as another variable does not create a new reference to the same object. Instead, it creates a new object with the same value as the original object and assigns the new variable to that object. This is why the value of string_1 is not changed when we change the value of string_2.\n",
    "```"
   ]
  },
  {
   "cell_type": "markdown",
   "metadata": {},
   "source": [
    "#### 2.2 Mutable objects"
   ]
  },
  {
   "cell_type": "code",
   "execution_count": 2,
   "metadata": {},
   "outputs": [
    {
     "name": "stdout",
     "output_type": "stream",
     "text": [
      "[10, 2, 3, 4, 5]\n",
      "[10, 2, 3, 4, 5]\n"
     ]
    }
   ],
   "source": [
    "# List\n",
    "nums_1 = [1, 2, 3, 4, 5]\n",
    "nums_2 = nums_1 # nums_2 is a reference to nums_1, i.e. nums_1 and nums_2 point to the same object\n",
    "nums_2[0] = 10 # change the first element of nums_2, i.e. nums_1 is also changed\n",
    "print(nums_1)\n",
    "print(nums_2)\n",
    "# i.e., changing nums_2 also changes nums_1"
   ]
  },
  {
   "cell_type": "markdown",
   "metadata": {},
   "source": [
    "```\n",
    "Creating a new variable with the same value as another variable creates a new reference to the same object. This is why the value of list_1 is changed when we change the value of list_2.\n",
    "```"
   ]
  },
  {
   "cell_type": "code",
   "execution_count": 3,
   "metadata": {},
   "outputs": [
    {
     "name": "stdout",
     "output_type": "stream",
     "text": [
      "{'a': 8, 'b': 2, 'c': 3}\n",
      "{'a': 8, 'b': 2, 'c': 3}\n"
     ]
    }
   ],
   "source": [
    "# Dictionary\n",
    "dict_1 = {\"a\":1, \"b\":2, \"c\":3}\n",
    "dict_2 = dict_1\n",
    "\n",
    "# let's change the value of \"a\" in dict_2\n",
    "dict_2[\"a\"] = 8\n",
    "\n",
    "# the impact will be visible in both dictionaries as both variables are refering to the same object\n",
    "print(dict_1)\n",
    "print(dict_2)"
   ]
  },
  {
   "cell_type": "code",
   "execution_count": null,
   "metadata": {},
   "outputs": [],
   "source": []
  }
 ],
 "metadata": {
  "kernelspec": {
   "display_name": "torch",
   "language": "python",
   "name": "python3"
  },
  "language_info": {
   "codemirror_mode": {
    "name": "ipython",
    "version": 3
   },
   "file_extension": ".py",
   "mimetype": "text/x-python",
   "name": "python",
   "nbconvert_exporter": "python",
   "pygments_lexer": "ipython3",
   "version": "3.10.8"
  }
 },
 "nbformat": 4,
 "nbformat_minor": 2
}
