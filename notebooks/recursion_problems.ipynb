{
 "cells": [
  {
   "cell_type": "code",
   "execution_count": 10,
   "metadata": {},
   "outputs": [],
   "source": [
    "from typing import List"
   ]
  },
  {
   "cell_type": "markdown",
   "metadata": {},
   "source": [
    "#### Print 1 to n without using loops"
   ]
  },
  {
   "cell_type": "code",
   "execution_count": 5,
   "metadata": {},
   "outputs": [
    {
     "name": "stdout",
     "output_type": "stream",
     "text": [
      "1\n",
      "2\n",
      "3\n",
      "4\n",
      "5\n"
     ]
    }
   ],
   "source": [
    "def print_n(n:int)->int:\n",
    "    if n>0:\n",
    "        print_n(n-1)\n",
    "        print(n)\n",
    "\n",
    "print_n(5)"
   ]
  },
  {
   "cell_type": "markdown",
   "metadata": {},
   "source": [
    "#### Print n to 1 without using loops"
   ]
  },
  {
   "cell_type": "code",
   "execution_count": 6,
   "metadata": {},
   "outputs": [
    {
     "name": "stdout",
     "output_type": "stream",
     "text": [
      "5\n",
      "4\n",
      "3\n",
      "2\n",
      "1\n"
     ]
    }
   ],
   "source": [
    "def print_n(n:int)->int:\n",
    "    if n>0:\n",
    "        print(n)\n",
    "        print_n(n-1)\n",
    "\n",
    "print_n(5)"
   ]
  },
  {
   "attachments": {},
   "cell_type": "markdown",
   "metadata": {},
   "source": [
    "#### Factorial\n",
    "Write a recursive function factorial(n) that takes in a positive integer n, and returns the factorial of n (1 x 2 x 3 x … x n)"
   ]
  },
  {
   "cell_type": "code",
   "execution_count": 1,
   "metadata": {},
   "outputs": [],
   "source": [
    "def factorial(n:int) -> int:\n",
    "    return 1 if n<2 else n*factorial(n-1)\n",
    "\n",
    "factorial(5)"
   ]
  },
  {
   "attachments": {},
   "cell_type": "markdown",
   "metadata": {},
   "source": [
    "#### Sum of natural numbers from 1 to n using recursion\n",
    "Write a recursive function summation(n) that takes in a positive integer n, and returns the sum of numbers from 1 to n."
   ]
  },
  {
   "cell_type": "code",
   "execution_count": 8,
   "metadata": {},
   "outputs": [
    {
     "data": {
      "text/plain": [
       "5050"
      ]
     },
     "execution_count": 8,
     "metadata": {},
     "output_type": "execute_result"
    }
   ],
   "source": [
    "def summation(n:int) -> int:\n",
    "    return 1 if n<2 else n+summation(n-1)\n",
    "\n",
    "summation(100)"
   ]
  },
  {
   "attachments": {},
   "cell_type": "markdown",
   "metadata": {},
   "source": [
    "#### Sum of odd numbers\n",
    "Write a recursive function sum_odd(lis) that takes in a list of integers, and returns the sum of only odd numbers inside the list."
   ]
  },
  {
   "cell_type": "code",
   "execution_count": 9,
   "metadata": {},
   "outputs": [
    {
     "data": {
      "text/plain": [
       "4"
      ]
     },
     "execution_count": 9,
     "metadata": {},
     "output_type": "execute_result"
    }
   ],
   "source": [
    "def sum_odd(nums:list) -> int:\n",
    "    if not nums:\n",
    "        return 0\n",
    "    elif nums[0] % 2 == 1:\n",
    "        return nums[0] + sum_odd(nums[1:])\n",
    "    else:\n",
    "        return sum_odd(nums[1:])\n",
    "\n",
    "nums = [1,2,3,4]\n",
    "sum_odd(nums)"
   ]
  },
  {
   "cell_type": "markdown",
   "metadata": {},
   "source": [
    "#### Sum of array elements using recursion"
   ]
  },
  {
   "cell_type": "code",
   "execution_count": 13,
   "metadata": {},
   "outputs": [
    {
     "data": {
      "text/plain": [
       "5050"
      ]
     },
     "execution_count": 13,
     "metadata": {},
     "output_type": "execute_result"
    }
   ],
   "source": [
    "def summation_arr(nums:List)->int:\n",
    "    if len(nums)<1:\n",
    "        return 0\n",
    "    else:\n",
    "        return nums[0] + summation_arr(nums[1:])\n",
    "\n",
    "nums = [i for i in range(101)]\n",
    "summation_arr(nums)"
   ]
  },
  {
   "cell_type": "markdown",
   "metadata": {},
   "source": [
    "#### Print reverse of a string using recursion"
   ]
  },
  {
   "cell_type": "code",
   "execution_count": 31,
   "metadata": {},
   "outputs": [
    {
     "name": "stdout",
     "output_type": "stream",
     "text": [
      "tac a si tac a"
     ]
    }
   ],
   "source": [
    "def reverse_string(string:str)->str:\n",
    "    if len(string) < 1:\n",
    "        return \n",
    "    else:\n",
    "        reverse_string(string[1:])\n",
    "        print(string[0], end='')\n",
    "\n",
    "string = \"a cat is a cat\"\n",
    "reverse_string(string)"
   ]
  },
  {
   "cell_type": "markdown",
   "metadata": {},
   "source": [
    "#### Program for length of a string using recursion"
   ]
  },
  {
   "cell_type": "code",
   "execution_count": 40,
   "metadata": {},
   "outputs": [
    {
     "data": {
      "text/plain": [
       "13"
      ]
     },
     "execution_count": 40,
     "metadata": {},
     "output_type": "execute_result"
    }
   ],
   "source": [
    "def string_length(string:str)->int:\n",
    "    if len(string)<1:\n",
    "        return 0\n",
    "    else:\n",
    "        return 1 + string_length(string[1:])\n",
    "    \n",
    "string = \"GeeksforGeeks\"\n",
    "string_length(string)"
   ]
  },
  {
   "cell_type": "code",
   "execution_count": null,
   "metadata": {},
   "outputs": [],
   "source": []
  }
 ],
 "metadata": {
  "kernelspec": {
   "display_name": "base",
   "language": "python",
   "name": "python3"
  },
  "language_info": {
   "codemirror_mode": {
    "name": "ipython",
    "version": 3
   },
   "file_extension": ".py",
   "mimetype": "text/x-python",
   "name": "python",
   "nbconvert_exporter": "python",
   "pygments_lexer": "ipython3",
   "version": "3.9.12"
  },
  "orig_nbformat": 4,
  "vscode": {
   "interpreter": {
    "hash": "7ab6c9a234243e9b1b8e01397e3e97ef7ba16898c560b20da106745d48591deb"
   }
  }
 },
 "nbformat": 4,
 "nbformat_minor": 2
}
