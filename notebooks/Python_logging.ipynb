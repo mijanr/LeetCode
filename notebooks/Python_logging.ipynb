{
 "cells": [
  {
   "cell_type": "code",
   "execution_count": 1,
   "metadata": {},
   "outputs": [],
   "source": [
    "import logging"
   ]
  },
  {
   "cell_type": "markdown",
   "metadata": {},
   "source": [
    "#### Logging in Python\n",
    "Logging in Python is a crucial aspect of software development, enabling developers to track and understand the flow of their applications. Python's built-in logging module provides a flexible and customizable logging framework. Developers can use various log levels, such as DEBUG, INFO, WARNING, ERROR, and CRITICAL, to categorize and prioritize log messages based on their severity. "
   ]
  },
  {
   "cell_type": "markdown",
   "metadata": {},
   "source": [
    "```\n",
    "# A basic logging example\n",
    "def main()->None:\n",
    "    # set how detailed the log file should be\n",
    "    logging.basicConfig(level=logging.DEBUG) # DEBUG, INFO, WARNING, ERROR, CRITICAL\n",
    "\n",
    "    # different logging levels\n",
    "    logging.debug('This is a debug message')\n",
    "    logging.info('This is an info message')\n",
    "    logging.warning('This is a warning message')\n",
    "    logging.error('This is an error message')\n",
    "    logging.critical('This is a critical message')\n",
    "\n",
    "if __name__ == '__main__':\n",
    "    main()\n",
    "```"
   ]
  },
  {
   "cell_type": "code",
   "execution_count": 2,
   "metadata": {},
   "outputs": [],
   "source": [
    "# Add date and time to the log file\n",
    "def main()->None:\n",
    "    # set how detailed the log file should be\n",
    "    logging.basicConfig(\n",
    "                        filename='test.log',\n",
    "                        level=logging.DEBUG,\n",
    "                        format='%(asctime)s: %(levelname)s: %(message)s',\n",
    "                        datefmt='%m/%d/%Y %I:%M:%S %p'\n",
    "                        )\n",
    "    # different logging levels\n",
    "    logging.debug('This is a debug message')\n",
    "    logging.info('This is an info message')\n",
    "    logging.warning('This is a warning message')\n",
    "    logging.error('This is an error message')\n",
    "    logging.critical('This is a critical message')\n",
    "\n",
    "    # save the log file\n",
    "    logging.shutdown() \n",
    "if __name__ == '__main__':\n",
    "    main()"
   ]
  },
  {
   "cell_type": "markdown",
   "metadata": {},
   "source": [
    "Upon succesive runs, the log file will be appended with the new log messages."
   ]
  },
  {
   "cell_type": "code",
   "execution_count": null,
   "metadata": {},
   "outputs": [],
   "source": [
    " "
   ]
  }
 ],
 "metadata": {
  "kernelspec": {
   "display_name": "torch",
   "language": "python",
   "name": "python3"
  },
  "language_info": {
   "codemirror_mode": {
    "name": "ipython",
    "version": 3
   },
   "file_extension": ".py",
   "mimetype": "text/x-python",
   "name": "python",
   "nbconvert_exporter": "python",
   "pygments_lexer": "ipython3",
   "version": "3.11.5"
  }
 },
 "nbformat": 4,
 "nbformat_minor": 2
}
