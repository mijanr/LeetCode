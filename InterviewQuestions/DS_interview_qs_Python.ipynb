{
 "cells": [
  {
   "cell_type": "markdown",
   "metadata": {},
   "source": [
    "# DS interview questions and answers in Python\n",
    "\n",
    "This is a collection of DS interview questions, collected from: https://github.com/youssefHosni/Data-Science-Interview-Questions-Answers/blob/main/Python%20Interview%20Questions%20%26%20Answers%20for%20Data%20Scientists.md\n",
    "\n",
    "This notebook contains the solutins I came up with. \n"
   ]
  },
  {
   "cell_type": "code",
   "execution_count": 2,
   "metadata": {},
   "outputs": [],
   "source": [
    "from typing import List"
   ]
  },
  {
   "cell_type": "markdown",
   "metadata": {},
   "source": [
    "### Q1: \n",
    "Given two arrays, write a python function to return the intersection of the two? For example, X = [1,5,9,0] and Y = [3,0,2,9] it should return [9,0]"
   ]
  },
  {
   "cell_type": "markdown",
   "metadata": {},
   "source": [
    "A straight forward O(n^2) solution would be to use two for loops and check for each element in X if it is in Y. If it is, add it to the result. We can make it Pythonic by using list comprehension."
   ]
  },
  {
   "cell_type": "code",
   "execution_count": 3,
   "metadata": {},
   "outputs": [
    {
     "name": "stdout",
     "output_type": "stream",
     "text": [
      "[9, 0]\n"
     ]
    }
   ],
   "source": [
    "nums1 = [1,5,9,0]\n",
    "nums2 = [3,0,2,9]\n",
    "res = [num for num in nums1 if num in nums2]\n",
    "print(res)"
   ]
  },
  {
   "cell_type": "markdown",
   "metadata": {},
   "source": [
    "A better solution would be to use a hash table. We can use a dictionary to store the elements of X as keys and their counts as values. Then we can iterate over Y and check if the element is in the dictionary. If it is, we add it to the result. This solution is O(n) in time."
   ]
  },
  {
   "cell_type": "code",
   "execution_count": 7,
   "metadata": {},
   "outputs": [
    {
     "name": "stdout",
     "output_type": "stream",
     "text": [
      "[0, 9]\n"
     ]
    }
   ],
   "source": [
    "nums1 = set([1,5,9,0])\n",
    "nums2 = [3,0,2,9]\n",
    "# using hash table\n",
    "res = []\n",
    "for num in nums2:\n",
    "    if num in nums1:\n",
    "        res.append(num)\n",
    "print(res)"
   ]
  },
  {
   "cell_type": "markdown",
   "metadata": {},
   "source": [
    "### Q2: \n",
    "Given an array, find all the duplicates in this array? For example: input: [1,2,3,1,3,6,5] output: [1,3]"
   ]
  },
  {
   "cell_type": "markdown",
   "metadata": {},
   "source": [
    "We can use a dictionary to store the elements of the array as keys and their counts as values. Then we can iterate over the dictionary and add the keys with values > 1 to the result. This solution is O(n) in time."
   ]
  },
  {
   "cell_type": "code",
   "execution_count": 8,
   "metadata": {},
   "outputs": [
    {
     "name": "stdout",
     "output_type": "stream",
     "text": [
      "[1, 3]\n"
     ]
    }
   ],
   "source": [
    "res = []\n",
    "nums = [1,2,3,1,3,6,5]\n",
    "hashMap = {}\n",
    "for num in nums:\n",
    "    if num in hashMap:\n",
    "        res.append(num)\n",
    "    else:\n",
    "        hashMap[num] = 1\n",
    "print(res)"
   ]
  },
  {
   "cell_type": "markdown",
   "metadata": {},
   "source": [
    "### Q3: \n",
    "Given an integer array, return the maximum product of any three numbers in the array?"
   ]
  },
  {
   "cell_type": "markdown",
   "metadata": {},
   "source": [
    "There might be several edge cases to consider here. For example, what if the array contains negative numbers? What if all the numbers are positive or all are negative? "
   ]
  },
  {
   "cell_type": "code",
   "execution_count": 11,
   "metadata": {},
   "outputs": [
    {
     "name": "stdout",
     "output_type": "stream",
     "text": [
      "120\n"
     ]
    }
   ],
   "source": [
    "# max product of any three numbers\n",
    "def findMaxProduct(nums: List[int]) -> int:\n",
    "    nums.sort()\n",
    "    return max(nums[0]*nums[1]*nums[-1], nums[-1]*nums[-2]*nums[-3])\n",
    "\n",
    "nums = [-1,2,3,4,-5,-6]\n",
    "print(findMaxProduct(nums))"
   ]
  },
  {
   "cell_type": "markdown",
   "metadata": {},
   "source": [
    "### Q4: \n",
    "Given an integer array, find the sum of the largest contiguous subarray within the array. For example, given the array A = [0,-1,-5,-2,3,14] it should return 17 because of [3,14]. Note that if all the elements are negative it should return zero."
   ]
  },
  {
   "cell_type": "markdown",
   "metadata": {},
   "source": [
    "The lazy solution would be to use two for loops and check all the possible subarrays. This would be O(n^2) in time."
   ]
  },
  {
   "cell_type": "code",
   "execution_count": 9,
   "metadata": {},
   "outputs": [
    {
     "name": "stdout",
     "output_type": "stream",
     "text": [
      "6\n"
     ]
    }
   ],
   "source": [
    "# lazy approach\n",
    "nums = [-2,1,-3,4,-1,2,1,-5,4]\n",
    "maxSum = nums[0]\n",
    "for idx1, num1 in enumerate(nums):\n",
    "    currSum = num1\n",
    "    for idx2, num2 in enumerate(nums[idx1+1:]):\n",
    "        currSum += num2\n",
    "        maxSum = max(currSum, maxSum)\n",
    "\n",
    "print(maxSum)"
   ]
  },
  {
   "cell_type": "code",
   "execution_count": null,
   "metadata": {},
   "outputs": [],
   "source": []
  }
 ],
 "metadata": {
  "kernelspec": {
   "display_name": "deepl",
   "language": "python",
   "name": "python3"
  },
  "language_info": {
   "codemirror_mode": {
    "name": "ipython",
    "version": 3
   },
   "file_extension": ".py",
   "mimetype": "text/x-python",
   "name": "python",
   "nbconvert_exporter": "python",
   "pygments_lexer": "ipython3",
   "version": "3.11.5"
  }
 },
 "nbformat": 4,
 "nbformat_minor": 2
}
