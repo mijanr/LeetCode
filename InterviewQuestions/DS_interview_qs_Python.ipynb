{
 "cells": [
  {
   "cell_type": "markdown",
   "metadata": {},
   "source": [
    "# DS interview questions and answers in Python\n",
    "\n",
    "This is a collection of DS interview questions, collected from: https://github.com/youssefHosni/Data-Science-Interview-Questions-Answers/blob/main/Python%20Interview%20Questions%20%26%20Answers%20for%20Data%20Scientists.md\n",
    "\n",
    "This notebook contains the solutins I came up with. \n"
   ]
  },
  {
   "cell_type": "code",
   "execution_count": 2,
   "metadata": {},
   "outputs": [],
   "source": [
    "from typing import List"
   ]
  },
  {
   "cell_type": "markdown",
   "metadata": {},
   "source": [
    "### Q1: \n",
    "Given two arrays, write a python function to return the intersection of the two? For example, X = [1,5,9,0] and Y = [3,0,2,9] it should return [9,0]"
   ]
  },
  {
   "cell_type": "markdown",
   "metadata": {},
   "source": [
    "A straight forward O(n^2) solution would be to use two for loops and check for each element in X if it is in Y. If it is, add it to the result. We can make it Pythonic by using list comprehension."
   ]
  },
  {
   "cell_type": "code",
   "execution_count": 3,
   "metadata": {},
   "outputs": [
    {
     "name": "stdout",
     "output_type": "stream",
     "text": [
      "[9, 0]\n"
     ]
    }
   ],
   "source": [
    "nums1 = [1,5,9,0]\n",
    "nums2 = [3,0,2,9]\n",
    "res = [num for num in nums1 if num in nums2]\n",
    "print(res)"
   ]
  },
  {
   "cell_type": "markdown",
   "metadata": {},
   "source": [
    "A better solution would be to use a hash table. We can use a dictionary to store the elements of X as keys and their counts as values. Then we can iterate over Y and check if the element is in the dictionary. If it is, we add it to the result. This solution is O(n) in time."
   ]
  },
  {
   "cell_type": "code",
   "execution_count": 7,
   "metadata": {},
   "outputs": [
    {
     "name": "stdout",
     "output_type": "stream",
     "text": [
      "[0, 9]\n"
     ]
    }
   ],
   "source": [
    "nums1 = set([1,5,9,0])\n",
    "nums2 = [3,0,2,9]\n",
    "# using hash table\n",
    "res = []\n",
    "for num in nums2:\n",
    "    if num in nums1:\n",
    "        res.append(num)\n",
    "print(res)"
   ]
  },
  {
   "cell_type": "markdown",
   "metadata": {},
   "source": [
    "### Q2: \n",
    "Given an array, find all the duplicates in this array? For example: input: [1,2,3,1,3,6,5] output: [1,3]"
   ]
  },
  {
   "cell_type": "markdown",
   "metadata": {},
   "source": [
    "We can use a dictionary to store the elements of the array as keys and their counts as values. Then we can iterate over the dictionary and add the keys with values > 1 to the result. This solution is O(n) in time."
   ]
  },
  {
   "cell_type": "code",
   "execution_count": 8,
   "metadata": {},
   "outputs": [
    {
     "name": "stdout",
     "output_type": "stream",
     "text": [
      "[1, 3]\n"
     ]
    }
   ],
   "source": [
    "res = []\n",
    "nums = [1,2,3,1,3,6,5]\n",
    "hashMap = {}\n",
    "for num in nums:\n",
    "    if num in hashMap:\n",
    "        res.append(num)\n",
    "    else:\n",
    "        hashMap[num] = 1\n",
    "print(res)"
   ]
  },
  {
   "cell_type": "markdown",
   "metadata": {},
   "source": [
    "### Q3: \n",
    "Given an integer array, return the maximum product of any three numbers in the array?"
   ]
  },
  {
   "cell_type": "markdown",
   "metadata": {},
   "source": [
    "There might be several edge cases to consider here. For example, what if the array contains negative numbers? What if all the numbers are positive or all are negative? "
   ]
  },
  {
   "cell_type": "code",
   "execution_count": 11,
   "metadata": {},
   "outputs": [
    {
     "name": "stdout",
     "output_type": "stream",
     "text": [
      "120\n"
     ]
    }
   ],
   "source": [
    "# max product of any three numbers\n",
    "def findMaxProduct(nums: List[int]) -> int:\n",
    "    nums.sort()\n",
    "    return max(nums[0]*nums[1]*nums[-1], nums[-1]*nums[-2]*nums[-3])\n",
    "\n",
    "nums = [-1,2,3,4,-5,-6]\n",
    "print(findMaxProduct(nums))"
   ]
  },
  {
   "cell_type": "markdown",
   "metadata": {},
   "source": [
    "### Q4: \n",
    "Given an integer array, find the sum of the largest contiguous subarray within the array. For example, given the array A = [0,-1,-5,-2,3,14] it should return 17 because of [3,14]. Note that if all the elements are negative it should return zero."
   ]
  },
  {
   "cell_type": "markdown",
   "metadata": {},
   "source": [
    "The lazy solution would be to use two for loops and check all the possible subarrays. This would be O(n^2) in time."
   ]
  },
  {
   "cell_type": "code",
   "execution_count": 9,
   "metadata": {},
   "outputs": [
    {
     "name": "stdout",
     "output_type": "stream",
     "text": [
      "6\n"
     ]
    }
   ],
   "source": [
    "# lazy approach\n",
    "nums = [-2,1,-3,4,-1,2,1,-5,4]\n",
    "maxSum = nums[0]\n",
    "for idx1, num1 in enumerate(nums):\n",
    "    currSum = num1\n",
    "    for idx2, num2 in enumerate(nums[idx1+1:]):\n",
    "        currSum += num2\n",
    "        maxSum = max(currSum, maxSum)\n",
    "\n",
    "print(maxSum)"
   ]
  },
  {
   "cell_type": "markdown",
   "metadata": {},
   "source": [
    "### Q5: \n",
    "Define tuples and lists in Python What are the major differences between them?\n",
    "\n",
    "Lists\n",
    "\n",
    "    - Lists are better for performing operations, such as insertion and deletion.\n",
    "    - Lists consume more memory\n",
    "    - Lists have several built-in methods\n",
    "\n",
    "Tuples\n",
    "\n",
    "    - Tuples are immutable\n",
    "    - Tuple data type is appropriate for accessing the elements\n",
    "    - Tuples consume less memory as compared to the list\n",
    "    - Tuple does not have many built-in methods.\n"
   ]
  },
  {
   "cell_type": "code",
   "execution_count": 10,
   "metadata": {},
   "outputs": [
    {
     "name": "stdout",
     "output_type": "stream",
     "text": [
      "[10, 2, 3, 4, 5, 6]\n",
      "[10, 2, 3, 4, 5, 6]\n"
     ]
    }
   ],
   "source": [
    "# examples \n",
    "nums1 = [1,2,3,4,5,6]\n",
    "nums2 = nums1\n",
    "nums2[0] = 10\n",
    "\n",
    "# this will change nums1 as well\n",
    "print(nums1)\n",
    "print(nums2)\n"
   ]
  },
  {
   "cell_type": "code",
   "execution_count": 15,
   "metadata": {},
   "outputs": [
    {
     "name": "stdout",
     "output_type": "stream",
     "text": [
      "(1, 2, 3, 4, 5, 6)\n",
      "(1, 2, 3, 4, 5, 6)\n"
     ]
    }
   ],
   "source": [
    "# tuples are immutable\n",
    "nums1 = (1,2,3,4,5,6)\n",
    "nums2 = nums1\n",
    "\n",
    "# this will not change nums1\n",
    "# nums2[0] = 10 # error\n",
    "\n",
    "print(nums1)\n",
    "print(nums2)"
   ]
  },
  {
   "cell_type": "markdown",
   "metadata": {},
   "source": [
    "### Q6: \n",
    "\n",
    "Compute the Euclidean Distance Between Two Series?"
   ]
  },
  {
   "cell_type": "code",
   "execution_count": 16,
   "metadata": {},
   "outputs": [
    {
     "name": "stdout",
     "output_type": "stream",
     "text": [
      "33\n"
     ]
    }
   ],
   "source": [
    "s1 = [2,5,2,1,6]\n",
    "s2 = [1,9,2,5,6]\n",
    "l2_norm = sum([(x-y)**2 for x,y in zip(s1,s2)])\n",
    "print(l2_norm)"
   ]
  },
  {
   "cell_type": "markdown",
   "metadata": {},
   "source": [
    "### Q7: \n",
    "Given an integer n and an integer K, output a list of all of the combination of k numbers chosen from 1 to n. For example, if n=3 and k=2, return [1,2][1,3],[2,3]"
   ]
  },
  {
   "cell_type": "code",
   "execution_count": 4,
   "metadata": {},
   "outputs": [
    {
     "name": "stdout",
     "output_type": "stream",
     "text": [
      "(K:3,n:4):\n",
      "[(1, 2, 3), (1, 2, 4), (1, 3, 4), (2, 3, 4)] \n",
      "\n"
     ]
    }
   ],
   "source": [
    "from itertools import combinations\n",
    "def find_combintaion(k,n):\n",
    "    list_num = []\n",
    "    comb = combinations([x for x in range(1, n+1)],k)\n",
    "    for i in comb:\n",
    "        list_num.append(i)\n",
    "    print(\"(K:{},n:{}):\".format(k,n))\n",
    "    print(list_num,\"\\n\")\n",
    "\n",
    "find_combintaion(3,4)"
   ]
  },
  {
   "cell_type": "markdown",
   "metadata": {},
   "source": [
    "### Q10: \n",
    "Given a string, return the first recurring character in it, or “None” if there is no recurring character. Example: input = \"pythoninterviewquestion\" , output = \"n\""
   ]
  },
  {
   "cell_type": "code",
   "execution_count": 5,
   "metadata": {},
   "outputs": [
    {
     "name": "stdout",
     "output_type": "stream",
     "text": [
      "n\n"
     ]
    }
   ],
   "source": [
    "s = \"pythoninterviewquestion\"\n",
    "def firstRecurringChar(s: str) -> str:\n",
    "    hashMap = {}\n",
    "    for char in s:\n",
    "        if char in hashMap:\n",
    "            return char\n",
    "        else:\n",
    "            hashMap[char] = 1\n",
    "    return None\n",
    "\n",
    "print(firstRecurringChar(s))"
   ]
  },
  {
   "cell_type": "markdown",
   "metadata": {},
   "source": [
    "### Q11: \n",
    "Given a positive integer X return an integer that is a factorial of X. If a negative integer is provided, return -1. Implement the solution by using a recursive function.\n",
    "\n"
   ]
  },
  {
   "cell_type": "code",
   "execution_count": 6,
   "metadata": {},
   "outputs": [
    {
     "name": "stdout",
     "output_type": "stream",
     "text": [
      "120\n",
      "1\n",
      "-1\n"
     ]
    }
   ],
   "source": [
    "def factorial(n):\n",
    "    if n < 0:\n",
    "        return -1\n",
    "    elif n == 0:\n",
    "        return 1\n",
    "    else:\n",
    "        return n * factorial(n-1)\n",
    "    \n",
    "print(factorial(5))\n",
    "print(factorial(0))\n",
    "print(factorial(-5))"
   ]
  }
 ],
 "metadata": {
  "kernelspec": {
   "display_name": "deepl",
   "language": "python",
   "name": "python3"
  },
  "language_info": {
   "codemirror_mode": {
    "name": "ipython",
    "version": 3
   },
   "file_extension": ".py",
   "mimetype": "text/x-python",
   "name": "python",
   "nbconvert_exporter": "python",
   "pygments_lexer": "ipython3",
   "version": "3.9.15"
  }
 },
 "nbformat": 4,
 "nbformat_minor": 2
}
